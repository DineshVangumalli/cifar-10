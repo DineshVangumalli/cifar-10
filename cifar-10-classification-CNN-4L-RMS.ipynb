{
 "cells": [
  {
   "cell_type": "code",
   "execution_count": 1,
   "metadata": {},
   "outputs": [
    {
     "name": "stderr",
     "output_type": "stream",
     "text": [
      "/home/ec2-user/anaconda3/envs/tensorflow_p36/lib/python3.6/importlib/_bootstrap.py:219: RuntimeWarning: compiletime version 3.5 of module 'tensorflow.python.framework.fast_tensor_util' does not match runtime version 3.6\n",
      "  return f(*args, **kwds)\n"
     ]
    },
    {
     "data": {
      "text/plain": [
       "'1.4.0'"
      ]
     },
     "execution_count": 1,
     "metadata": {},
     "output_type": "execute_result"
    }
   ],
   "source": [
    "import tensorflow\n",
    "tensorflow.__version__"
   ]
  },
  {
   "cell_type": "code",
   "execution_count": 2,
   "metadata": {},
   "outputs": [
    {
     "name": "stderr",
     "output_type": "stream",
     "text": [
      "Using TensorFlow backend.\n"
     ]
    },
    {
     "data": {
      "text/plain": [
       "'2.1.0'"
      ]
     },
     "execution_count": 2,
     "metadata": {},
     "output_type": "execute_result"
    }
   ],
   "source": [
    "import keras\n",
    "keras.__version__"
   ]
  },
  {
   "cell_type": "code",
   "execution_count": 3,
   "metadata": {},
   "outputs": [],
   "source": [
    "import numpy as np\n",
    "import pandas as pd\n",
    "import matplotlib.pyplot as plt\n",
    "from keras.datasets import cifar10\n",
    "from keras.models import Sequential\n",
    "from keras.layers import Dense, Dropout, Flatten\n",
    "from keras.layers import Conv2D, MaxPooling2D\n",
    "from keras.optimizers import SGD\n",
    "from keras.optimizers import RMSprop\n",
    "from keras.utils import np_utils\n",
    "\n",
    "np.random.seed(100)\n",
    "%matplotlib inline"
   ]
  },
  {
   "cell_type": "code",
   "execution_count": 4,
   "metadata": {},
   "outputs": [],
   "source": [
    "(X_train, y_train), (X_test, y_test) = cifar10.load_data()"
   ]
  },
  {
   "cell_type": "code",
   "execution_count": 5,
   "metadata": {},
   "outputs": [
    {
     "data": {
      "text/plain": [
       "(50000, 32, 32, 3)"
      ]
     },
     "execution_count": 5,
     "metadata": {},
     "output_type": "execute_result"
    }
   ],
   "source": [
    "X_train.shape"
   ]
  },
  {
   "cell_type": "code",
   "execution_count": 6,
   "metadata": {},
   "outputs": [
    {
     "data": {
      "text/plain": [
       "(50000, 1)"
      ]
     },
     "execution_count": 6,
     "metadata": {},
     "output_type": "execute_result"
    }
   ],
   "source": [
    "y_train.shape"
   ]
  },
  {
   "cell_type": "code",
   "execution_count": 7,
   "metadata": {},
   "outputs": [],
   "source": [
    "y_train = y_train.reshape(y_train.shape[0])  #y_train comes as a 2D nx1 matrix\n",
    "y_test = y_test.reshape(y_test.shape[0])"
   ]
  },
  {
   "cell_type": "code",
   "execution_count": 8,
   "metadata": {},
   "outputs": [
    {
     "data": {
      "text/plain": [
       "(50000,)"
      ]
     },
     "execution_count": 8,
     "metadata": {},
     "output_type": "execute_result"
    }
   ],
   "source": [
    "y_train.shape"
   ]
  },
  {
   "cell_type": "code",
   "execution_count": 30,
   "metadata": {},
   "outputs": [],
   "source": [
    "label_names = ['airplane', 'automobile', 'bird', 'cat', 'deer', 'dog', 'frog', 'horse', 'ship', 'truck']"
   ]
  },
  {
   "cell_type": "code",
   "execution_count": 9,
   "metadata": {},
   "outputs": [],
   "source": [
    "# Size of the batch\n",
    "batch_size = 32\n",
    "# Number of classes of images\n",
    "nb_classes = 10\n",
    "# Number of epochs for learning\n",
    "num_epochs = 40\n",
    "# Size of the images\n",
    "img_rows, img_cols = 32, 32\n",
    "# Number of channels in the image: RGB\n",
    "img_channels = 3"
   ]
  },
  {
   "cell_type": "code",
   "execution_count": 10,
   "metadata": {},
   "outputs": [],
   "source": [
    "# Normalize the data\n",
    "X_train = X_train.astype('float32')\n",
    "X_test = X_test.astype('float32')\n",
    "X_train /= 255\n",
    "X_test /= 255"
   ]
  },
  {
   "cell_type": "code",
   "execution_count": 11,
   "metadata": {},
   "outputs": [],
   "source": [
    "# Convert the labels to categories\n",
    "y_train = np_utils.to_categorical(y_train, 10)\n",
    "y_test = np_utils.to_categorical(y_test, 10)"
   ]
  },
  {
   "cell_type": "code",
   "execution_count": 12,
   "metadata": {},
   "outputs": [
    {
     "data": {
      "text/plain": [
       "(50000, 10)"
      ]
     },
     "execution_count": 12,
     "metadata": {},
     "output_type": "execute_result"
    }
   ],
   "source": [
    "y_train.shape"
   ]
  },
  {
   "cell_type": "code",
   "execution_count": 13,
   "metadata": {},
   "outputs": [],
   "source": [
    "# Create a model\n",
    "model = Sequential()\n",
    "\n",
    "# The first convolutional layer\n",
    "model.add(Conv2D(32, (3, 3), padding='same', input_shape=(32, 32, 3), activation='relu'))\n",
    "# The second convolutional layer\n",
    "model.add(Conv2D(32, (3, 3), activation='relu', padding='same'))\n",
    "# The first pooling Layer\n",
    "model.add(MaxPooling2D(pool_size=(2, 2)))\n",
    "# Dropout regularization layer\n",
    "model.add(Dropout(0.25))\n",
    "\n",
    "# The third convolutional layer\n",
    "model.add(Conv2D(64, (3, 3), padding='same', activation='relu'))\n",
    "# The fourth convolutional layer\n",
    "model.add(Conv2D(64, (3, 3), activation='relu'))\n",
    "# The second pooling layer\n",
    "model.add(MaxPooling2D(pool_size=(2, 2)))\n",
    "# Dropout regularization layer\n",
    "model.add(Dropout(0.25))\n",
    "\n",
    "# Flatten the dataset\n",
    "model.add(Flatten())\n",
    "# A fully-connected layer for classification\n",
    "model.add(Dense(512, activation='relu'))\n",
    "# Dropout regularization layer\n",
    "model.add(Dropout(0.5))\n",
    "\n",
    "# Output/Softmax layer\n",
    "model.add(Dense(nb_classes, activation='softmax'))\n"
   ]
  },
  {
   "cell_type": "code",
   "execution_count": 14,
   "metadata": {},
   "outputs": [],
   "source": [
    "rms = RMSprop(lr=0.001, rho=0.9, epsilon=1e-08, decay=1e-6)\n",
    "model.compile(loss='categorical_crossentropy', optimizer=rms, metrics=['accuracy'])"
   ]
  },
  {
   "cell_type": "code",
   "execution_count": null,
   "metadata": {},
   "outputs": [],
   "source": []
  },
  {
   "cell_type": "code",
   "execution_count": 15,
   "metadata": {},
   "outputs": [
    {
     "name": "stdout",
     "output_type": "stream",
     "text": [
      "Train on 45000 samples, validate on 5000 samples\n",
      "Epoch 1/40\n",
      " - 29s - loss: 1.5530 - acc: 0.4407 - val_loss: 1.4035 - val_acc: 0.4956\n",
      "Epoch 2/40\n",
      " - 24s - loss: 1.1314 - acc: 0.6012 - val_loss: 0.9608 - val_acc: 0.6738\n",
      "Epoch 3/40\n",
      " - 24s - loss: 1.0057 - acc: 0.6511 - val_loss: 0.9576 - val_acc: 0.6608\n",
      "Epoch 4/40\n",
      " - 24s - loss: 0.9664 - acc: 0.6702 - val_loss: 0.9083 - val_acc: 0.6956\n",
      "Epoch 5/40\n",
      " - 24s - loss: 0.9547 - acc: 0.6790 - val_loss: 1.0539 - val_acc: 0.6562\n",
      "Epoch 6/40\n",
      " - 24s - loss: 0.9662 - acc: 0.6787 - val_loss: 0.8685 - val_acc: 0.7050\n",
      "Epoch 7/40\n",
      " - 24s - loss: 0.9743 - acc: 0.6787 - val_loss: 1.0166 - val_acc: 0.6712\n",
      "Epoch 8/40\n",
      " - 24s - loss: 1.0149 - acc: 0.6696 - val_loss: 1.0435 - val_acc: 0.6770\n",
      "Epoch 9/40\n",
      " - 24s - loss: 1.0500 - acc: 0.6596 - val_loss: 1.0526 - val_acc: 0.6872\n",
      "Epoch 10/40\n",
      " - 24s - loss: 1.0646 - acc: 0.6562 - val_loss: 1.1037 - val_acc: 0.6690\n",
      "Epoch 11/40\n",
      " - 24s - loss: 1.1030 - acc: 0.6471 - val_loss: 1.0333 - val_acc: 0.6680\n",
      "Epoch 12/40\n",
      " - 24s - loss: 1.1146 - acc: 0.6414 - val_loss: 5.4057 - val_acc: 0.4178\n",
      "Epoch 13/40\n",
      " - 24s - loss: 1.1393 - acc: 0.6374 - val_loss: 1.6334 - val_acc: 0.6036\n",
      "Epoch 14/40\n",
      " - 24s - loss: 1.1660 - acc: 0.6321 - val_loss: 1.2479 - val_acc: 0.6382\n",
      "Epoch 15/40\n",
      " - 24s - loss: 1.1985 - acc: 0.6202 - val_loss: 0.9249 - val_acc: 0.7032\n",
      "Epoch 16/40\n",
      " - 24s - loss: 1.2170 - acc: 0.6145 - val_loss: 1.0933 - val_acc: 0.6404\n",
      "Epoch 17/40\n",
      " - 24s - loss: 1.2282 - acc: 0.6124 - val_loss: 1.0775 - val_acc: 0.6566\n",
      "Epoch 18/40\n",
      " - 24s - loss: 1.2674 - acc: 0.5954 - val_loss: 1.3180 - val_acc: 0.5674\n",
      "Epoch 19/40\n",
      " - 24s - loss: 1.2769 - acc: 0.5913 - val_loss: 1.1693 - val_acc: 0.6326\n",
      "Epoch 20/40\n",
      " - 24s - loss: 1.3218 - acc: 0.5780 - val_loss: 1.3457 - val_acc: 0.5682\n",
      "Epoch 21/40\n",
      " - 24s - loss: 1.3390 - acc: 0.5738 - val_loss: 1.4237 - val_acc: 0.5132\n",
      "Epoch 22/40\n",
      " - 24s - loss: 1.3603 - acc: 0.5659 - val_loss: 1.0804 - val_acc: 0.6326\n",
      "Epoch 23/40\n",
      " - 24s - loss: 1.3655 - acc: 0.5642 - val_loss: 1.0997 - val_acc: 0.6596\n",
      "Epoch 24/40\n",
      " - 24s - loss: 1.3705 - acc: 0.5625 - val_loss: 1.2237 - val_acc: 0.5924\n",
      "Epoch 25/40\n",
      " - 24s - loss: 1.3975 - acc: 0.5510 - val_loss: 1.3347 - val_acc: 0.5690\n",
      "Epoch 26/40\n",
      " - 24s - loss: 1.3988 - acc: 0.5522 - val_loss: 1.5067 - val_acc: 0.4462\n",
      "Epoch 27/40\n",
      " - 24s - loss: 1.4191 - acc: 0.5414 - val_loss: 1.1123 - val_acc: 0.6196\n",
      "Epoch 28/40\n",
      " - 24s - loss: 1.4368 - acc: 0.5378 - val_loss: 2.0221 - val_acc: 0.4096\n",
      "Epoch 29/40\n",
      " - 24s - loss: 1.4565 - acc: 0.5270 - val_loss: 1.3316 - val_acc: 0.5508\n",
      "Epoch 30/40\n",
      " - 25s - loss: 1.4963 - acc: 0.5167 - val_loss: 1.2618 - val_acc: 0.5662\n",
      "Epoch 31/40\n",
      " - 25s - loss: 1.5154 - acc: 0.5106 - val_loss: 1.2510 - val_acc: 0.5886\n",
      "Epoch 32/40\n",
      " - 25s - loss: 1.5557 - acc: 0.4935 - val_loss: 1.3514 - val_acc: 0.5448\n",
      "Epoch 33/40\n",
      " - 24s - loss: 1.5483 - acc: 0.4893 - val_loss: 1.2223 - val_acc: 0.5678\n",
      "Epoch 34/40\n",
      " - 24s - loss: 1.6038 - acc: 0.4793 - val_loss: 1.2683 - val_acc: 0.5640\n",
      "Epoch 35/40\n",
      " - 24s - loss: 1.6244 - acc: 0.4706 - val_loss: 1.6287 - val_acc: 0.4620\n",
      "Epoch 36/40\n",
      " - 24s - loss: 1.6383 - acc: 0.4594 - val_loss: 1.4108 - val_acc: 0.5204\n",
      "Epoch 37/40\n",
      " - 24s - loss: 1.6829 - acc: 0.4482 - val_loss: 1.5573 - val_acc: 0.4510\n",
      "Epoch 38/40\n",
      " - 24s - loss: 1.7226 - acc: 0.4338 - val_loss: 1.4173 - val_acc: 0.5174\n",
      "Epoch 39/40\n",
      " - 24s - loss: 1.7687 - acc: 0.4155 - val_loss: 2.2496 - val_acc: 0.3778\n",
      "Epoch 40/40\n",
      " - 24s - loss: 1.8240 - acc: 0.3917 - val_loss: 1.7437 - val_acc: 0.3908\n",
      "CPU times: user 17min 6s, sys: 1min 21s, total: 18min 27s\n",
      "Wall time: 16min 17s\n"
     ]
    }
   ],
   "source": [
    "%%time\n",
    "history = model.fit(X_train, y_train,\n",
    "          batch_size=batch_size,\n",
    "          epochs=num_epochs,\n",
    "          validation_split=0.1,\n",
    "          shuffle=True,\n",
    "          verbose=2)"
   ]
  },
  {
   "cell_type": "code",
   "execution_count": 16,
   "metadata": {},
   "outputs": [],
   "source": [
    "model_json = model.to_json()\n",
    "open('cifar10_architecture2_rms.json', 'w').write(model_json)\n",
    "\n",
    "# Save the weights learned by the deep neural network on the training data\n",
    "model.save_weights('cifar10_weights2_rms.h5')"
   ]
  },
  {
   "cell_type": "code",
   "execution_count": 17,
   "metadata": {},
   "outputs": [
    {
     "name": "stdout",
     "output_type": "stream",
     "text": [
      "The accuracy of test data: 38.57%\n",
      "CPU times: user 1.31 s, sys: 80 ms, total: 1.39 s\n",
      "Wall time: 1.59 s\n"
     ]
    }
   ],
   "source": [
    "%%time\n",
    "scores = model.evaluate(X_test, y_test, verbose=2)\n",
    "print(\"The accuracy of test data: %.2f%%\" % (scores[1]*100))"
   ]
  },
  {
   "cell_type": "code",
   "execution_count": 18,
   "metadata": {},
   "outputs": [
    {
     "name": "stdout",
     "output_type": "stream",
     "text": [
      "_________________________________________________________________\n",
      "Layer (type)                 Output Shape              Param #   \n",
      "=================================================================\n",
      "conv2d_1 (Conv2D)            (None, 32, 32, 32)        896       \n",
      "_________________________________________________________________\n",
      "conv2d_2 (Conv2D)            (None, 32, 32, 32)        9248      \n",
      "_________________________________________________________________\n",
      "max_pooling2d_1 (MaxPooling2 (None, 16, 16, 32)        0         \n",
      "_________________________________________________________________\n",
      "dropout_1 (Dropout)          (None, 16, 16, 32)        0         \n",
      "_________________________________________________________________\n",
      "conv2d_3 (Conv2D)            (None, 16, 16, 64)        18496     \n",
      "_________________________________________________________________\n",
      "conv2d_4 (Conv2D)            (None, 14, 14, 64)        36928     \n",
      "_________________________________________________________________\n",
      "max_pooling2d_2 (MaxPooling2 (None, 7, 7, 64)          0         \n",
      "_________________________________________________________________\n",
      "dropout_2 (Dropout)          (None, 7, 7, 64)          0         \n",
      "_________________________________________________________________\n",
      "flatten_1 (Flatten)          (None, 3136)              0         \n",
      "_________________________________________________________________\n",
      "dense_1 (Dense)              (None, 512)               1606144   \n",
      "_________________________________________________________________\n",
      "dropout_3 (Dropout)          (None, 512)               0         \n",
      "_________________________________________________________________\n",
      "dense_2 (Dense)              (None, 10)                5130      \n",
      "=================================================================\n",
      "Total params: 1,676,842\n",
      "Trainable params: 1,676,842\n",
      "Non-trainable params: 0\n",
      "_________________________________________________________________\n"
     ]
    }
   ],
   "source": [
    "model.summary()"
   ]
  },
  {
   "cell_type": "code",
   "execution_count": 22,
   "metadata": {},
   "outputs": [
    {
     "name": "stdout",
     "output_type": "stream",
     "text": [
      "dict_keys(['val_loss', 'val_acc', 'loss', 'acc'])\n"
     ]
    },
    {
     "data": {
      "image/png": "[encoded data removed]",
      "text/plain": [
       "<matplotlib.figure.Figure at 0x7fee55094940>"
      ]
     },
     "metadata": {},
     "output_type": "display_data"
    },
    {
     "data": {
      "image/png": "[encoded data removed]",
      "text/plain": [
       "<matplotlib.figure.Figure at 0x7fee53ea6a58>"
      ]
     },
     "metadata": {},
     "output_type": "display_data"
    }
   ],
   "source": [
    "# list all data in history\n",
    "print(history.history.keys())\n",
    "# summarize history for accuracy\n",
    "plt.plot(history.history['acc'])\n",
    "plt.plot(history.history['val_acc'])\n",
    "plt.title('model accuracy')\n",
    "plt.ylabel('accuracy')\n",
    "plt.xlabel('epoch')\n",
    "plt.legend(['train', 'test'], loc='upper left')\n",
    "plt.show()\n",
    "# summarize history for loss\n",
    "plt.plot(history.history['loss'])\n",
    "plt.plot(history.history['val_loss'])\n",
    "plt.title('model loss')\n",
    "plt.ylabel('loss')\n",
    "plt.xlabel('epoch')\n",
    "plt.legend(['train', 'test'], loc='upper left')\n",
    "plt.show()"
   ]
  },
  {
   "cell_type": "code",
   "execution_count": 24,
   "metadata": {},
   "outputs": [
    {
     "name": "stdout",
     "output_type": "stream",
     "text": [
      "10000/10000 [==============================] - 1s 146us/step\n"
     ]
    },
    {
     "data": {
      "text/plain": [
       "array([6, 8, 8, ..., 3, 1, 7])"
      ]
     },
     "execution_count": 24,
     "metadata": {},
     "output_type": "execute_result"
    }
   ],
   "source": [
    "y_pred = model.predict_classes(X_test)\n",
    "y_pred"
   ]
  },
  {
   "cell_type": "code",
   "execution_count": 65,
   "metadata": {},
   "outputs": [],
   "source": [
    "sgd = SGD(lr=0.001, decay=1e-6, momentum=0.9, nesterov=True)\n",
    "\n",
    "model.compile(loss='categorical_crossentropy', optimizer=sgd, metrics=['accuracy'])"
   ]
  },
  {
   "cell_type": "code",
   "execution_count": 66,
   "metadata": {},
   "outputs": [
    {
     "name": "stdout",
     "output_type": "stream",
     "text": [
      "Train on 45000 samples, validate on 5000 samples\n",
      "Epoch 1/50\n",
      " - 22s - loss: 2.0633 - acc: 0.2354 - val_loss: 1.7874 - val_acc: 0.3700\n",
      "Epoch 2/50\n",
      " - 21s - loss: 1.7053 - acc: 0.3792 - val_loss: 1.5366 - val_acc: 0.4512\n",
      "Epoch 3/50\n",
      " - 21s - loss: 1.5384 - acc: 0.4405 - val_loss: 1.4045 - val_acc: 0.4972\n",
      "Epoch 4/50\n",
      " - 21s - loss: 1.4239 - acc: 0.4854 - val_loss: 1.3066 - val_acc: 0.5302\n",
      "Epoch 5/50\n",
      " - 21s - loss: 1.3371 - acc: 0.5175 - val_loss: 1.2285 - val_acc: 0.5664\n",
      "Epoch 6/50\n",
      " - 21s - loss: 1.2729 - acc: 0.5442 - val_loss: 1.1815 - val_acc: 0.5852\n",
      "Epoch 7/50\n",
      " - 21s - loss: 1.2028 - acc: 0.5706 - val_loss: 1.1123 - val_acc: 0.6144\n",
      "Epoch 8/50\n",
      " - 21s - loss: 1.1518 - acc: 0.5897 - val_loss: 1.0620 - val_acc: 0.6418\n",
      "Epoch 9/50\n",
      " - 21s - loss: 1.1005 - acc: 0.6083 - val_loss: 1.0028 - val_acc: 0.6446\n",
      "Epoch 10/50\n",
      " - 21s - loss: 1.0531 - acc: 0.6262 - val_loss: 0.9513 - val_acc: 0.6678\n",
      "Epoch 11/50\n",
      " - 21s - loss: 1.0051 - acc: 0.6442 - val_loss: 0.9060 - val_acc: 0.6890\n",
      "Epoch 12/50\n",
      " - 21s - loss: 0.9656 - acc: 0.6595 - val_loss: 0.8733 - val_acc: 0.6992\n",
      "Epoch 13/50\n",
      " - 21s - loss: 0.9255 - acc: 0.6732 - val_loss: 0.8335 - val_acc: 0.7118\n",
      "Epoch 14/50\n",
      " - 21s - loss: 0.8941 - acc: 0.6854 - val_loss: 0.8075 - val_acc: 0.7214\n",
      "Epoch 15/50\n",
      " - 21s - loss: 0.8637 - acc: 0.6958 - val_loss: 0.7634 - val_acc: 0.7326\n",
      "Epoch 16/50\n",
      " - 21s - loss: 0.8325 - acc: 0.7082 - val_loss: 0.7455 - val_acc: 0.7436\n",
      "Epoch 17/50\n",
      " - 21s - loss: 0.8099 - acc: 0.7136 - val_loss: 0.7355 - val_acc: 0.7474\n",
      "Epoch 18/50\n",
      " - 21s - loss: 0.7827 - acc: 0.7233 - val_loss: 0.7223 - val_acc: 0.7462\n",
      "Epoch 19/50\n",
      " - 21s - loss: 0.7545 - acc: 0.7334 - val_loss: 0.7336 - val_acc: 0.7472\n",
      "Epoch 20/50\n",
      " - 21s - loss: 0.7389 - acc: 0.7399 - val_loss: 0.7070 - val_acc: 0.7512\n",
      "Epoch 21/50\n",
      " - 21s - loss: 0.7161 - acc: 0.7476 - val_loss: 0.6819 - val_acc: 0.7626\n",
      "Epoch 22/50\n",
      " - 21s - loss: 0.7006 - acc: 0.7533 - val_loss: 0.6858 - val_acc: 0.7662\n",
      "Epoch 23/50\n",
      " - 21s - loss: 0.6803 - acc: 0.7598 - val_loss: 0.6554 - val_acc: 0.7756\n",
      "Epoch 24/50\n",
      " - 21s - loss: 0.6615 - acc: 0.7659 - val_loss: 0.6446 - val_acc: 0.7752\n",
      "Epoch 25/50\n",
      " - 21s - loss: 0.6497 - acc: 0.7710 - val_loss: 0.6406 - val_acc: 0.7770\n",
      "Epoch 26/50\n",
      " - 21s - loss: 0.6335 - acc: 0.7755 - val_loss: 0.6526 - val_acc: 0.7774\n",
      "Epoch 27/50\n",
      " - 21s - loss: 0.6173 - acc: 0.7814 - val_loss: 0.6237 - val_acc: 0.7846\n",
      "Epoch 28/50\n",
      " - 21s - loss: 0.5989 - acc: 0.7886 - val_loss: 0.6187 - val_acc: 0.7892\n",
      "Epoch 29/50\n",
      " - 21s - loss: 0.5873 - acc: 0.7920 - val_loss: 0.6271 - val_acc: 0.7874\n",
      "Epoch 30/50\n",
      " - 21s - loss: 0.5692 - acc: 0.7987 - val_loss: 0.6356 - val_acc: 0.7908\n",
      "Epoch 31/50\n",
      " - 21s - loss: 0.5619 - acc: 0.8012 - val_loss: 0.6070 - val_acc: 0.7942\n",
      "Epoch 32/50\n",
      " - 21s - loss: 0.5431 - acc: 0.8072 - val_loss: 0.5986 - val_acc: 0.7976\n",
      "Epoch 33/50\n",
      " - 21s - loss: 0.5322 - acc: 0.8108 - val_loss: 0.5980 - val_acc: 0.7916\n",
      "Epoch 34/50\n",
      " - 21s - loss: 0.5166 - acc: 0.8161 - val_loss: 0.6024 - val_acc: 0.7972\n",
      "Epoch 35/50\n",
      " - 21s - loss: 0.5019 - acc: 0.8204 - val_loss: 0.5977 - val_acc: 0.8004\n",
      "Epoch 36/50\n",
      " - 21s - loss: 0.4919 - acc: 0.8244 - val_loss: 0.5846 - val_acc: 0.8024\n",
      "Epoch 37/50\n",
      " - 21s - loss: 0.4854 - acc: 0.8279 - val_loss: 0.5884 - val_acc: 0.7946\n",
      "Epoch 38/50\n",
      " - 21s - loss: 0.4707 - acc: 0.8320 - val_loss: 0.5931 - val_acc: 0.7990\n",
      "Epoch 39/50\n",
      " - 21s - loss: 0.4663 - acc: 0.8323 - val_loss: 0.5922 - val_acc: 0.8026\n",
      "Epoch 40/50\n",
      " - 21s - loss: 0.4471 - acc: 0.8407 - val_loss: 0.5789 - val_acc: 0.8064\n",
      "Epoch 41/50\n",
      " - 21s - loss: 0.4378 - acc: 0.8453 - val_loss: 0.5878 - val_acc: 0.8016\n",
      "Epoch 42/50\n",
      " - 21s - loss: 0.4298 - acc: 0.8452 - val_loss: 0.5857 - val_acc: 0.8042\n",
      "Epoch 43/50\n",
      " - 21s - loss: 0.4200 - acc: 0.8500 - val_loss: 0.5829 - val_acc: 0.8060\n",
      "Epoch 44/50\n",
      " - 21s - loss: 0.4059 - acc: 0.8555 - val_loss: 0.5809 - val_acc: 0.8046\n",
      "Epoch 45/50\n",
      " - 21s - loss: 0.4021 - acc: 0.8538 - val_loss: 0.5988 - val_acc: 0.8014\n",
      "Epoch 46/50\n",
      " - 21s - loss: 0.3928 - acc: 0.8604 - val_loss: 0.5674 - val_acc: 0.8070\n",
      "Epoch 47/50\n",
      " - 21s - loss: 0.3796 - acc: 0.8632 - val_loss: 0.5985 - val_acc: 0.8064\n",
      "Epoch 48/50\n",
      " - 21s - loss: 0.3762 - acc: 0.8643 - val_loss: 0.5829 - val_acc: 0.8104\n",
      "Epoch 49/50\n",
      " - 21s - loss: 0.3608 - acc: 0.8706 - val_loss: 0.5884 - val_acc: 0.8076\n",
      "Epoch 50/50\n",
      " - 21s - loss: 0.3548 - acc: 0.8721 - val_loss: 0.5897 - val_acc: 0.8080\n",
      "CPU times: user 18min 6s, sys: 1min 32s, total: 19min 38s\n",
      "Wall time: 17min 25s\n"
     ]
    }
   ],
   "source": [
    "%%time\n",
    "history = model.fit(X_train, y_train,\n",
    "          batch_size=batch_size,\n",
    "          epochs=num_epochs,\n",
    "          validation_split=0.1,\n",
    "          shuffle=True,\n",
    "          verbose=2)"
   ]
  },
  {
   "cell_type": "code",
   "execution_count": 67,
   "metadata": {},
   "outputs": [],
   "source": [
    "model_json = model.to_json()\n",
    "open('cifar10_architecture1_sgd.json', 'w').write(model_json)\n",
    "\n",
    "# Save the weights learned by the deep neural network on the training data\n",
    "model.save_weights('cifar10_weights1_sgd.h5')"
   ]
  },
  {
   "cell_type": "code",
   "execution_count": 68,
   "metadata": {},
   "outputs": [
    {
     "name": "stdout",
     "output_type": "stream",
     "text": [
      "The accuracy of the test data: 79.71%\n",
      "CPU times: user 1.2 s, sys: 88 ms, total: 1.29 s\n",
      "Wall time: 1.48 s\n"
     ]
    }
   ],
   "source": [
    "%%time\n",
    "scores = model.evaluate(X_test, y_test, verbose=2)\n",
    "print(\"The accuracy of the test data: %.2f%%\" % (scores[1]*100))"
   ]
  },
  {
   "cell_type": "code",
   "execution_count": 69,
   "metadata": {},
   "outputs": [
    {
     "name": "stdout",
     "output_type": "stream",
     "text": [
      "_________________________________________________________________\n",
      "Layer (type)                 Output Shape              Param #   \n",
      "=================================================================\n",
      "conv2d_13 (Conv2D)           (None, 32, 32, 32)        896       \n",
      "_________________________________________________________________\n",
      "conv2d_14 (Conv2D)           (None, 32, 32, 32)        9248      \n",
      "_________________________________________________________________\n",
      "max_pooling2d_7 (MaxPooling2 (None, 16, 16, 32)        0         \n",
      "_________________________________________________________________\n",
      "dropout_10 (Dropout)         (None, 16, 16, 32)        0         \n",
      "_________________________________________________________________\n",
      "conv2d_15 (Conv2D)           (None, 16, 16, 64)        18496     \n",
      "_________________________________________________________________\n",
      "conv2d_16 (Conv2D)           (None, 14, 14, 64)        36928     \n",
      "_________________________________________________________________\n",
      "max_pooling2d_8 (MaxPooling2 (None, 7, 7, 64)          0         \n",
      "_________________________________________________________________\n",
      "dropout_11 (Dropout)         (None, 7, 7, 64)          0         \n",
      "_________________________________________________________________\n",
      "flatten_4 (Flatten)          (None, 3136)              0         \n",
      "_________________________________________________________________\n",
      "dense_7 (Dense)              (None, 512)               1606144   \n",
      "_________________________________________________________________\n",
      "dropout_12 (Dropout)         (None, 512)               0         \n",
      "_________________________________________________________________\n",
      "dense_8 (Dense)              (None, 10)                5130      \n",
      "=================================================================\n",
      "Total params: 1,676,842\n",
      "Trainable params: 1,676,842\n",
      "Non-trainable params: 0\n",
      "_________________________________________________________________\n"
     ]
    }
   ],
   "source": [
    "model.summary()"
   ]
  },
  {
   "cell_type": "code",
   "execution_count": 70,
   "metadata": {},
   "outputs": [
    {
     "name": "stdout",
     "output_type": "stream",
     "text": [
      "dict_keys(['val_loss', 'val_acc', 'loss', 'acc'])\n"
     ]
    },
    {
     "data": {
      "image/png": "[encoded data removed]",
      "text/plain": [
       "<matplotlib.figure.Figure at 0x7f8ac5b21e48>"
      ]
     },
     "metadata": {},
     "output_type": "display_data"
    },
    {
     "data": {
      "image/png": "[encoded data removed]",
      "text/plain": [
       "<matplotlib.figure.Figure at 0x7f8ac59c60b8>"
      ]
     },
     "metadata": {},
     "output_type": "display_data"
    }
   ],
   "source": [
    "# list all data in history\n",
    "print(history.history.keys())\n",
    "# summarize history for accuracy\n",
    "plt.plot(history.history['acc'])\n",
    "plt.plot(history.history['val_acc'])\n",
    "plt.title('model accuracy')\n",
    "plt.ylabel('accuracy')\n",
    "plt.xlabel('epoch')\n",
    "plt.legend(['train', 'test'], loc='upper left')\n",
    "plt.show()\n",
    "# summarize history for loss\n",
    "plt.plot(history.history['loss'])\n",
    "plt.plot(history.history['val_loss'])\n",
    "plt.title('model loss')\n",
    "plt.ylabel('loss')\n",
    "plt.xlabel('epoch')\n",
    "plt.legend(['train', 'test'], loc='upper left')\n",
    "plt.show()"
   ]
  },
  {
   "cell_type": "code",
   "execution_count": 71,
   "metadata": {},
   "outputs": [
    {
     "name": "stdout",
     "output_type": "stream",
     "text": [
      "Bokeh - 0.12.10\n"
     ]
    }
   ],
   "source": [
    "from bokeh import __version__ as bokeh_version\n",
    "print(\"Bokeh - %s\" % bokeh_version)   "
   ]
  },
  {
   "cell_type": "code",
   "execution_count": 73,
   "metadata": {},
   "outputs": [
    {
     "data": {
      "text/html": [
       "\n",
       "    <div class=\"bk-root\">\n",
       "        <a href=\"https://bokeh.pydata.org\" target=\"_blank\" class=\"bk-logo bk-logo-small bk-logo-notebook\"></a>\n",
       "        <span id=\"7c655768-5344-47f4-850c-8690f0f0b71d\">Loading BokehJS ...</span>\n",
       "    </div>"
      ]
     },
     "metadata": {},
     "output_type": "display_data"
    },
    {
     "data": {
      "application/javascript": [
       "\n",
       "(function(root) {\n",
       "  function now() {\n",
       "    return new Date();\n",
       "  }\n",
       "\n",
       "  var force = true;\n",
       "\n",
       "  if (typeof (root._bokeh_onload_callbacks) === \"undefined\" || force === true) {\n",
       "    root._bokeh_onload_callbacks = [];\n",
       "    root._bokeh_is_loading = undefined;\n",
       "  }\n",
       "\n",
       "  var JS_MIME_TYPE = 'application/javascript';\n",
       "  var HTML_MIME_TYPE = 'text/html';\n",
       "  var EXEC_MIME_TYPE = 'application/vnd.bokehjs_exec.v0+json';\n",
       "  var CLASS_NAME = 'output_bokeh rendered_html';\n",
       "\n",
       "  /**\n",
       "   * Render data to the DOM node\n",
       "   */\n",
       "  function render(props, node) {\n",
       "    var script = document.createElement(\"script\");\n",
       "    node.appendChild(script);\n",
       "  }\n",
       "\n",
       "  /**\n",
       "   * Handle when an output is cleared or removed\n",
       "   */\n",
       "  function handleClearOutput(event, handle) {\n",
       "    var cell = handle.cell;\n",
       "\n",
       "    var id = cell.output_area._bokeh_element_id;\n",
       "    var server_id = cell.output_area._bokeh_server_id;\n",
       "    // Clean up Bokeh references\n",
       "    if (id !== undefined) {\n",
       "      Bokeh.index[id].model.document.clear();\n",
       "      delete Bokeh.index[id];\n",
       "    }\n",
       "\n",
       "    if (server_id !== undefined) {\n",
       "      // Clean up Bokeh references\n",
       "      var cmd = \"from bokeh.io.state import curstate; print(curstate().uuid_to_server['\" + server_id + \"'].get_sessions()[0].document.roots[0]._id)\";\n",
       "      cell.notebook.kernel.execute(cmd, {\n",
       "        iopub: {\n",
       "          output: function(msg) {\n",
       "            var element_id = msg.content.text.trim();\n",
       "            Bokeh.index[element_id].model.document.clear();\n",
       "            delete Bokeh.index[element_id];\n",
       "          }\n",
       "        }\n",
       "      });\n",
       "      // Destroy server and session\n",
       "      var cmd = \"import bokeh.io.notebook as ion; ion.destroy_server('\" + server_id + \"')\";\n",
       "      cell.notebook.kernel.execute(cmd);\n",
       "    }\n",
       "  }\n",
       "\n",
       "  /**\n",
       "   * Handle when a new output is added\n",
       "   */\n",
       "  function handleAddOutput(event, handle) {\n",
       "    var output_area = handle.output_area;\n",
       "    var output = handle.output;\n",
       "\n",
       "    // limit handleAddOutput to display_data with EXEC_MIME_TYPE content only\n",
       "    if ((output.output_type != \"display_data\") || (!output.data.hasOwnProperty(EXEC_MIME_TYPE))) {\n",
       "      return\n",
       "    }\n",
       "\n",
       "    var toinsert = output_area.element.find(`.${CLASS_NAME.split(' ')[0]}`);\n",
       "\n",
       "    if (output.metadata[EXEC_MIME_TYPE][\"id\"] !== undefined) {\n",
       "      toinsert[0].firstChild.textContent = output.data[JS_MIME_TYPE];\n",
       "      // store reference to embed id on output_area\n",
       "      output_area._bokeh_element_id = output.metadata[EXEC_MIME_TYPE][\"id\"];\n",
       "    }\n",
       "    if (output.metadata[EXEC_MIME_TYPE][\"server_id\"] !== undefined) {\n",
       "      var bk_div = document.createElement(\"div\");\n",
       "      bk_div.innerHTML = output.data[HTML_MIME_TYPE];\n",
       "      var script_attrs = bk_div.children[0].attributes;\n",
       "      for (var i = 0; i < script_attrs.length; i++) {\n",
       "        toinsert[0].firstChild.setAttribute(script_attrs[i].name, script_attrs[i].value);\n",
       "      }\n",
       "      // store reference to server id on output_area\n",
       "      output_area._bokeh_server_id = output.metadata[EXEC_MIME_TYPE][\"server_id\"];\n",
       "    }\n",
       "  }\n",
       "\n",
       "  function register_renderer(events, OutputArea) {\n",
       "\n",
       "    function append_mime(data, metadata, element) {\n",
       "      // create a DOM node to render to\n",
       "      var toinsert = this.create_output_subarea(\n",
       "        metadata,\n",
       "        CLASS_NAME,\n",
       "        EXEC_MIME_TYPE\n",
       "      );\n",
       "      this.keyboard_manager.register_events(toinsert);\n",
       "      // Render to node\n",
       "      var props = {data: data, metadata: metadata[EXEC_MIME_TYPE]};\n",
       "      render(props, toinsert[0]);\n",
       "      element.append(toinsert);\n",
       "      return toinsert\n",
       "    }\n",
       "\n",
       "    /* Handle when an output is cleared or removed */\n",
       "    events.on('clear_output.CodeCell', handleClearOutput);\n",
       "    events.on('delete.Cell', handleClearOutput);\n",
       "\n",
       "    /* Handle when a new output is added */\n",
       "    events.on('output_added.OutputArea', handleAddOutput);\n",
       "\n",
       "    /**\n",
       "     * Register the mime type and append_mime function with output_area\n",
       "     */\n",
       "    OutputArea.prototype.register_mime_type(EXEC_MIME_TYPE, append_mime, {\n",
       "      /* Is output safe? */\n",
       "      safe: true,\n",
       "      /* Index of renderer in `output_area.display_order` */\n",
       "      index: 0\n",
       "    });\n",
       "  }\n",
       "\n",
       "  // register the mime type if in Jupyter Notebook environment and previously unregistered\n",
       "  if (root.Jupyter !== undefined) {\n",
       "    var events = require('base/js/events');\n",
       "    var OutputArea = require('notebook/js/outputarea').OutputArea;\n",
       "\n",
       "    if (OutputArea.prototype.mime_types().indexOf(EXEC_MIME_TYPE) == -1) {\n",
       "      register_renderer(events, OutputArea);\n",
       "    }\n",
       "  }\n",
       "\n",
       "  \n",
       "  if (typeof (root._bokeh_timeout) === \"undefined\" || force === true) {\n",
       "    root._bokeh_timeout = Date.now() + 5000;\n",
       "    root._bokeh_failed_load = false;\n",
       "  }\n",
       "\n",
       "  var NB_LOAD_WARNING = {'data': {'text/html':\n",
       "     \"<div style='background-color: #fdd'>\\n\"+\n",
       "     \"<p>\\n\"+\n",
       "     \"BokehJS does not appear to have successfully loaded. If loading BokehJS from CDN, this \\n\"+\n",
       "     \"may be due to a slow or bad network connection. Possible fixes:\\n\"+\n",
       "     \"</p>\\n\"+\n",
       "     \"<ul>\\n\"+\n",
       "     \"<li>re-rerun `output_notebook()` to attempt to load from CDN again, or</li>\\n\"+\n",
       "     \"<li>use INLINE resources instead, as so:</li>\\n\"+\n",
       "     \"</ul>\\n\"+\n",
       "     \"<code>\\n\"+\n",
       "     \"from bokeh.resources import INLINE\\n\"+\n",
       "     \"output_notebook(resources=INLINE)\\n\"+\n",
       "     \"</code>\\n\"+\n",
       "     \"</div>\"}};\n",
       "\n",
       "  function display_loaded() {\n",
       "    var el = document.getElementById(\"7c655768-5344-47f4-850c-8690f0f0b71d\");\n",
       "    if (el != null) {\n",
       "      el.textContent = \"BokehJS is loading...\";\n",
       "    }\n",
       "    if (root.Bokeh !== undefined) {\n",
       "      if (el != null) {\n",
       "        el.textContent = \"BokehJS \" + root.Bokeh.version + \" successfully loaded.\";\n",
       "      }\n",
       "    } else if (Date.now() < root._bokeh_timeout) {\n",
       "      setTimeout(display_loaded, 100)\n",
       "    }\n",
       "  }\n",
       "\n",
       "\n",
       "  function run_callbacks() {\n",
       "    try {\n",
       "      root._bokeh_onload_callbacks.forEach(function(callback) { callback() });\n",
       "    }\n",
       "    finally {\n",
       "      delete root._bokeh_onload_callbacks\n",
       "    }\n",
       "    console.info(\"Bokeh: all callbacks have finished\");\n",
       "  }\n",
       "\n",
       "  function load_libs(js_urls, callback) {\n",
       "    root._bokeh_onload_callbacks.push(callback);\n",
       "    if (root._bokeh_is_loading > 0) {\n",
       "      console.log(\"Bokeh: BokehJS is being loaded, scheduling callback at\", now());\n",
       "      return null;\n",
       "    }\n",
       "    if (js_urls == null || js_urls.length === 0) {\n",
       "      run_callbacks();\n",
       "      return null;\n",
       "    }\n",
       "    console.log(\"Bokeh: BokehJS not loaded, scheduling load and callback at\", now());\n",
       "    root._bokeh_is_loading = js_urls.length;\n",
       "    for (var i = 0; i < js_urls.length; i++) {\n",
       "      var url = js_urls[i];\n",
       "      var s = document.createElement('script');\n",
       "      s.src = url;\n",
       "      s.async = false;\n",
       "      s.onreadystatechange = s.onload = function() {\n",
       "        root._bokeh_is_loading--;\n",
       "        if (root._bokeh_is_loading === 0) {\n",
       "          console.log(\"Bokeh: all BokehJS libraries loaded\");\n",
       "          run_callbacks()\n",
       "        }\n",
       "      };\n",
       "      s.onerror = function() {\n",
       "        console.warn(\"failed to load library \" + url);\n",
       "      };\n",
       "      console.log(\"Bokeh: injecting script tag for BokehJS library: \", url);\n",
       "      document.getElementsByTagName(\"head\")[0].appendChild(s);\n",
       "    }\n",
       "  };var element = document.getElementById(\"7c655768-5344-47f4-850c-8690f0f0b71d\");\n",
       "  if (element == null) {\n",
       "    console.log(\"Bokeh: ERROR: autoload.js configured with elementid '7c655768-5344-47f4-850c-8690f0f0b71d' but no matching script tag was found. \")\n",
       "    return false;\n",
       "  }\n",
       "\n",
       "  var js_urls = [\"https://cdn.pydata.org/bokeh/release/bokeh-0.12.10.min.js\", \"https://cdn.pydata.org/bokeh/release/bokeh-widgets-0.12.10.min.js\", \"https://cdn.pydata.org/bokeh/release/bokeh-tables-0.12.10.min.js\", \"https://cdn.pydata.org/bokeh/release/bokeh-gl-0.12.10.min.js\"];\n",
       "\n",
       "  var inline_js = [\n",
       "    function(Bokeh) {\n",
       "      Bokeh.set_log_level(\"info\");\n",
       "    },\n",
       "    \n",
       "    function(Bokeh) {\n",
       "      \n",
       "    },\n",
       "    function(Bokeh) {\n",
       "      console.log(\"Bokeh: injecting CSS: https://cdn.pydata.org/bokeh/release/bokeh-0.12.10.min.css\");\n",
       "      Bokeh.embed.inject_css(\"https://cdn.pydata.org/bokeh/release/bokeh-0.12.10.min.css\");\n",
       "      console.log(\"Bokeh: injecting CSS: https://cdn.pydata.org/bokeh/release/bokeh-widgets-0.12.10.min.css\");\n",
       "      Bokeh.embed.inject_css(\"https://cdn.pydata.org/bokeh/release/bokeh-widgets-0.12.10.min.css\");\n",
       "      console.log(\"Bokeh: injecting CSS: https://cdn.pydata.org/bokeh/release/bokeh-tables-0.12.10.min.css\");\n",
       "      Bokeh.embed.inject_css(\"https://cdn.pydata.org/bokeh/release/bokeh-tables-0.12.10.min.css\");\n",
       "    }\n",
       "  ];\n",
       "\n",
       "  function run_inline_js() {\n",
       "    \n",
       "    if ((root.Bokeh !== undefined) || (force === true)) {\n",
       "      for (var i = 0; i < inline_js.length; i++) {\n",
       "        inline_js[i].call(root, root.Bokeh);\n",
       "      }if (force === true) {\n",
       "        display_loaded();\n",
       "      }} else if (Date.now() < root._bokeh_timeout) {\n",
       "      setTimeout(run_inline_js, 100);\n",
       "    } else if (!root._bokeh_failed_load) {\n",
       "      console.log(\"Bokeh: BokehJS failed to load within specified timeout.\");\n",
       "      root._bokeh_failed_load = true;\n",
       "    } else if (force !== true) {\n",
       "      var cell = $(document.getElementById(\"7c655768-5344-47f4-850c-8690f0f0b71d\")).parents('.cell').data().cell;\n",
       "      cell.output_area.append_execute_result(NB_LOAD_WARNING)\n",
       "    }\n",
       "\n",
       "  }\n",
       "\n",
       "  if (root._bokeh_is_loading === 0) {\n",
       "    console.log(\"Bokeh: BokehJS loaded, going straight to plotting\");\n",
       "    run_inline_js();\n",
       "  } else {\n",
       "    load_libs(js_urls, function() {\n",
       "      console.log(\"Bokeh: BokehJS plotting callback run at\", now());\n",
       "      run_inline_js();\n",
       "    });\n",
       "  }\n",
       "}(window));"
      ],
      "application/vnd.bokehjs_load.v0+json": "\n(function(root) {\n  function now() {\n    return new Date();\n  }\n\n  var force = true;\n\n  if (typeof (root._bokeh_onload_callbacks) === \"undefined\" || force === true) {\n    root._bokeh_onload_callbacks = [];\n    root._bokeh_is_loading = undefined;\n  }\n\n  \n\n  \n  if (typeof (root._bokeh_timeout) === \"undefined\" || force === true) {\n    root._bokeh_timeout = Date.now() + 5000;\n    root._bokeh_failed_load = false;\n  }\n\n  var NB_LOAD_WARNING = {'data': {'text/html':\n     \"<div style='background-color: #fdd'>\\n\"+\n     \"<p>\\n\"+\n     \"BokehJS does not appear to have successfully loaded. If loading BokehJS from CDN, this \\n\"+\n     \"may be due to a slow or bad network connection. Possible fixes:\\n\"+\n     \"</p>\\n\"+\n     \"<ul>\\n\"+\n     \"<li>re-rerun `output_notebook()` to attempt to load from CDN again, or</li>\\n\"+\n     \"<li>use INLINE resources instead, as so:</li>\\n\"+\n     \"</ul>\\n\"+\n     \"<code>\\n\"+\n     \"from bokeh.resources import INLINE\\n\"+\n     \"output_notebook(resources=INLINE)\\n\"+\n     \"</code>\\n\"+\n     \"</div>\"}};\n\n  function display_loaded() {\n    var el = document.getElementById(\"7c655768-5344-47f4-850c-8690f0f0b71d\");\n    if (el != null) {\n      el.textContent = \"BokehJS is loading...\";\n    }\n    if (root.Bokeh !== undefined) {\n      if (el != null) {\n        el.textContent = \"BokehJS \" + root.Bokeh.version + \" successfully loaded.\";\n      }\n    } else if (Date.now() < root._bokeh_timeout) {\n      setTimeout(display_loaded, 100)\n    }\n  }\n\n\n  function run_callbacks() {\n    try {\n      root._bokeh_onload_callbacks.forEach(function(callback) { callback() });\n    }\n    finally {\n      delete root._bokeh_onload_callbacks\n    }\n    console.info(\"Bokeh: all callbacks have finished\");\n  }\n\n  function load_libs(js_urls, callback) {\n    root._bokeh_onload_callbacks.push(callback);\n    if (root._bokeh_is_loading > 0) {\n      console.log(\"Bokeh: BokehJS is being loaded, scheduling callback at\", now());\n      return null;\n    }\n    if (js_urls == null || js_urls.length === 0) {\n      run_callbacks();\n      return null;\n    }\n    console.log(\"Bokeh: BokehJS not loaded, scheduling load and callback at\", now());\n    root._bokeh_is_loading = js_urls.length;\n    for (var i = 0; i < js_urls.length; i++) {\n      var url = js_urls[i];\n      var s = document.createElement('script');\n      s.src = url;\n      s.async = false;\n      s.onreadystatechange = s.onload = function() {\n        root._bokeh_is_loading--;\n        if (root._bokeh_is_loading === 0) {\n          console.log(\"Bokeh: all BokehJS libraries loaded\");\n          run_callbacks()\n        }\n      };\n      s.onerror = function() {\n        console.warn(\"failed to load library \" + url);\n      };\n      console.log(\"Bokeh: injecting script tag for BokehJS library: \", url);\n      document.getElementsByTagName(\"head\")[0].appendChild(s);\n    }\n  };var element = document.getElementById(\"7c655768-5344-47f4-850c-8690f0f0b71d\");\n  if (element == null) {\n    console.log(\"Bokeh: ERROR: autoload.js configured with elementid '7c655768-5344-47f4-850c-8690f0f0b71d' but no matching script tag was found. \")\n    return false;\n  }\n\n  var js_urls = [\"https://cdn.pydata.org/bokeh/release/bokeh-0.12.10.min.js\", \"https://cdn.pydata.org/bokeh/release/bokeh-widgets-0.12.10.min.js\", \"https://cdn.pydata.org/bokeh/release/bokeh-tables-0.12.10.min.js\", \"https://cdn.pydata.org/bokeh/release/bokeh-gl-0.12.10.min.js\"];\n\n  var inline_js = [\n    function(Bokeh) {\n      Bokeh.set_log_level(\"info\");\n    },\n    \n    function(Bokeh) {\n      \n    },\n    function(Bokeh) {\n      console.log(\"Bokeh: injecting CSS: https://cdn.pydata.org/bokeh/release/bokeh-0.12.10.min.css\");\n      Bokeh.embed.inject_css(\"https://cdn.pydata.org/bokeh/release/bokeh-0.12.10.min.css\");\n      console.log(\"Bokeh: injecting CSS: https://cdn.pydata.org/bokeh/release/bokeh-widgets-0.12.10.min.css\");\n      Bokeh.embed.inject_css(\"https://cdn.pydata.org/bokeh/release/bokeh-widgets-0.12.10.min.css\");\n      console.log(\"Bokeh: injecting CSS: https://cdn.pydata.org/bokeh/release/bokeh-tables-0.12.10.min.css\");\n      Bokeh.embed.inject_css(\"https://cdn.pydata.org/bokeh/release/bokeh-tables-0.12.10.min.css\");\n    }\n  ];\n\n  function run_inline_js() {\n    \n    if ((root.Bokeh !== undefined) || (force === true)) {\n      for (var i = 0; i < inline_js.length; i++) {\n        inline_js[i].call(root, root.Bokeh);\n      }if (force === true) {\n        display_loaded();\n      }} else if (Date.now() < root._bokeh_timeout) {\n      setTimeout(run_inline_js, 100);\n    } else if (!root._bokeh_failed_load) {\n      console.log(\"Bokeh: BokehJS failed to load within specified timeout.\");\n      root._bokeh_failed_load = true;\n    } else if (force !== true) {\n      var cell = $(document.getElementById(\"7c655768-5344-47f4-850c-8690f0f0b71d\")).parents('.cell').data().cell;\n      cell.output_area.append_execute_result(NB_LOAD_WARNING)\n    }\n\n  }\n\n  if (root._bokeh_is_loading === 0) {\n    console.log(\"Bokeh: BokehJS loaded, going straight to plotting\");\n    run_inline_js();\n  } else {\n    load_libs(js_urls, function() {\n      console.log(\"Bokeh: BokehJS plotting callback run at\", now());\n      run_inline_js();\n    });\n  }\n}(window));"
     },
     "metadata": {},
     "output_type": "display_data"
    }
   ],
   "source": [
    "# Import the required libraries for bokeh\n",
    "\n",
    "from bokeh.io import show, output_notebook\n",
    "from bokeh.plotting import figure\n",
    "from bokeh.models import ColumnDataSource\n",
    "from bokeh.palettes import Spectral5\n",
    "from bokeh.transform import factor_cmap\n",
    "output_notebook()"
   ]
  },
  {
   "cell_type": "code",
   "execution_count": null,
   "metadata": {},
   "outputs": [],
   "source": []
  },
  {
   "cell_type": "code",
   "execution_count": 57,
   "metadata": {},
   "outputs": [
    {
     "name": "stdout",
     "output_type": "stream",
     "text": [
      "/home/ec2-user\n"
     ]
    }
   ],
   "source": [
    "cd"
   ]
  },
  {
   "cell_type": "code",
   "execution_count": 58,
   "metadata": {},
   "outputs": [
    {
     "name": "stdout",
     "output_type": "stream",
     "text": [
      "\u001b[0m\u001b[38;5;27manaconda3\u001b[0m/                      cifar10_weights2_rms.h5\r\n",
      "\u001b[38;5;27mcerts\u001b[0m/                          Nvidia_Cloud_EULA.pdf\r\n",
      "cifar10_architecture1_sgd.json  \u001b[38;5;27msrc\u001b[0m/\r\n",
      "cifar10_architecture2_rms.json  \u001b[38;5;27mtutorials\u001b[0m/\r\n",
      "cifar10_weights1_sgd.h5\r\n"
     ]
    }
   ],
   "source": [
    "ls"
   ]
  },
  {
   "cell_type": "code",
   "execution_count": 59,
   "metadata": {},
   "outputs": [
    {
     "name": "stdout",
     "output_type": "stream",
     "text": [
      "/home/ec2-user/certs\n"
     ]
    }
   ],
   "source": [
    "cd certs"
   ]
  },
  {
   "cell_type": "code",
   "execution_count": 60,
   "metadata": {},
   "outputs": [
    {
     "name": "stdout",
     "output_type": "stream",
     "text": [
      "mycert.pem  Untitled.ipynb\r\n"
     ]
    }
   ],
   "source": [
    "ls"
   ]
  },
  {
   "cell_type": "code",
   "execution_count": null,
   "metadata": {},
   "outputs": [],
   "source": []
  }
 ],
 "metadata": {
  "kernelspec": {
   "display_name": "Python [conda env:tensorflow_p36]",
   "language": "python",
   "name": "conda-env-tensorflow_p36-py"
  },
  "language_info": {
   "codemirror_mode": {
    "name": "ipython",
    "version": 3
   },
   "file_extension": ".py",
   "mimetype": "text/x-python",
   "name": "python",
   "nbconvert_exporter": "python",
   "pygments_lexer": "ipython3",
   "version": "3.6.3"
  }
 },
 "nbformat": 4,
 "nbformat_minor": 2
}
