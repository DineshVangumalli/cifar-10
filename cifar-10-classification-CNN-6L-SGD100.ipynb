{
 "cells": [
  {
   "cell_type": "code",
   "execution_count": 2,
   "metadata": {},
   "outputs": [
    {
     "data": {
      "text/plain": [
       "'1.4.0'"
      ]
     },
     "execution_count": 2,
     "metadata": {},
     "output_type": "execute_result"
    }
   ],
   "source": [
    "import tensorflow\n",
    "tensorflow.__version__"
   ]
  },
  {
   "cell_type": "code",
   "execution_count": 3,
   "metadata": {},
   "outputs": [
    {
     "data": {
      "text/plain": [
       "'2.1.0'"
      ]
     },
     "execution_count": 3,
     "metadata": {},
     "output_type": "execute_result"
    }
   ],
   "source": [
    "import keras\n",
    "keras.__version__"
   ]
  },
  {
   "cell_type": "code",
   "execution_count": 31,
   "metadata": {},
   "outputs": [],
   "source": [
    "import numpy as np\n",
    "import pandas as pd\n",
    "import matplotlib.pyplot as plt\n",
    "from keras.datasets import cifar10\n",
    "from keras.models import Sequential\n",
    "from keras.layers import Dense, Dropout, Flatten\n",
    "from keras.layers import Conv2D, MaxPooling2D\n",
    "from keras.optimizers import SGD\n",
    "from keras.optimizers import RMSprop\n",
    "from keras.optimizers import Adam\n",
    "from keras.utils import np_utils\n",
    "\n",
    "np.random.seed(100)\n",
    "%matplotlib inline"
   ]
  },
  {
   "cell_type": "code",
   "execution_count": 32,
   "metadata": {},
   "outputs": [],
   "source": [
    "(X_train, y_train), (X_test, y_test) = cifar10.load_data()"
   ]
  },
  {
   "cell_type": "code",
   "execution_count": 33,
   "metadata": {},
   "outputs": [
    {
     "data": {
      "text/plain": [
       "(50000, 32, 32, 3)"
      ]
     },
     "execution_count": 33,
     "metadata": {},
     "output_type": "execute_result"
    }
   ],
   "source": [
    "X_train.shape"
   ]
  },
  {
   "cell_type": "code",
   "execution_count": 34,
   "metadata": {},
   "outputs": [
    {
     "data": {
      "text/plain": [
       "(50000, 1)"
      ]
     },
     "execution_count": 34,
     "metadata": {},
     "output_type": "execute_result"
    }
   ],
   "source": [
    "y_train.shape"
   ]
  },
  {
   "cell_type": "code",
   "execution_count": 35,
   "metadata": {},
   "outputs": [],
   "source": [
    "y_train = y_train.reshape(y_train.shape[0])  #y_train comes as a 2D nx1 matrix\n",
    "y_test = y_test.reshape(y_test.shape[0])"
   ]
  },
  {
   "cell_type": "code",
   "execution_count": 36,
   "metadata": {},
   "outputs": [
    {
     "data": {
      "text/plain": [
       "(50000,)"
      ]
     },
     "execution_count": 36,
     "metadata": {},
     "output_type": "execute_result"
    }
   ],
   "source": [
    "y_train.shape"
   ]
  },
  {
   "cell_type": "code",
   "execution_count": 37,
   "metadata": {},
   "outputs": [],
   "source": [
    "label_names = ['airplane', 'automobile', 'bird', 'cat', 'deer', 'dog', 'frog', 'horse', 'ship', 'truck']"
   ]
  },
  {
   "cell_type": "code",
   "execution_count": 38,
   "metadata": {},
   "outputs": [],
   "source": [
    "# Size of the batch\n",
    "batch_size = 32\n",
    "# Number of classes of images\n",
    "nb_classes = 10\n",
    "# Number of epochs for learning\n",
    "num_epochs = 100\n",
    "# Size of the images\n",
    "img_rows, img_cols = 32, 32\n",
    "# Number of channels in the image: RGB\n",
    "img_channels = 3"
   ]
  },
  {
   "cell_type": "code",
   "execution_count": 39,
   "metadata": {},
   "outputs": [],
   "source": [
    "# Normalize the data\n",
    "X_train = X_train.astype('float32')\n",
    "X_test = X_test.astype('float32')\n",
    "X_train /= 255\n",
    "X_test /= 255"
   ]
  },
  {
   "cell_type": "code",
   "execution_count": 40,
   "metadata": {},
   "outputs": [],
   "source": [
    "# Convert the labels to categories\n",
    "y_train = np_utils.to_categorical(y_train, 10)\n",
    "y_test = np_utils.to_categorical(y_test, 10)"
   ]
  },
  {
   "cell_type": "code",
   "execution_count": 41,
   "metadata": {},
   "outputs": [
    {
     "data": {
      "text/plain": [
       "(50000, 10)"
      ]
     },
     "execution_count": 41,
     "metadata": {},
     "output_type": "execute_result"
    }
   ],
   "source": [
    "y_train.shape"
   ]
  },
  {
   "cell_type": "code",
   "execution_count": 42,
   "metadata": {},
   "outputs": [],
   "source": [
    "# Create a model\n",
    "model = Sequential()\n",
    "\n",
    "# The first convolutional layer\n",
    "model.add(Conv2D(32, (3, 3), padding='same', input_shape=(32, 32, 3), activation='relu'))\n",
    "# The second convolutional layer\n",
    "model.add(Conv2D(32, (3, 3), activation='relu', padding='same'))\n",
    "# The first pooling Layer\n",
    "model.add(MaxPooling2D(pool_size=(2, 2)))\n",
    "# Dropout regularization layer\n",
    "model.add(Dropout(0.25))\n",
    "\n",
    "# The third convolutional layer\n",
    "model.add(Conv2D(64, (3, 3), padding='same', activation='relu'))\n",
    "# The fourth convolutional layer\n",
    "model.add(Conv2D(64, (3, 3), activation='relu'))\n",
    "# The second pooling layer\n",
    "model.add(MaxPooling2D(pool_size=(2, 2)))\n",
    "# Dropout regularization layer\n",
    "model.add(Dropout(0.25))\n",
    "\n",
    "# The fifth convolutional layer\n",
    "model.add(Conv2D(128, (3, 3), padding='same', activation='relu'))\n",
    "# The sixth convolutional layer\n",
    "model.add(Conv2D(128, (3, 3), activation='relu'))\n",
    "# The third pooling layer\n",
    "model.add(MaxPooling2D(pool_size=(2, 2)))\n",
    "# Dropout regularization layer\n",
    "model.add(Dropout(0.25))\n",
    "\n",
    "# Flatten the dataset\n",
    "model.add(Flatten())\n",
    "# A fully-connected layer for classification\n",
    "model.add(Dense(512, activation='relu'))\n",
    "# Dropout regularization layer\n",
    "model.add(Dropout(0.5))\n",
    "\n",
    "# Output/Softmax layer\n",
    "model.add(Dense(nb_classes, activation='softmax'))"
   ]
  },
  {
   "cell_type": "code",
   "execution_count": 43,
   "metadata": {},
   "outputs": [],
   "source": [
    "sgd = SGD(lr=0.001, decay=1e-6, momentum=0.9, nesterov=True)\n",
    "model.compile(loss='categorical_crossentropy', optimizer=sgd, metrics=['accuracy'])"
   ]
  },
  {
   "cell_type": "code",
   "execution_count": 44,
   "metadata": {},
   "outputs": [
    {
     "name": "stdout",
     "output_type": "stream",
     "text": [
      "Train on 45000 samples, validate on 5000 samples\n",
      "Epoch 1/100\n",
      " - 25s - loss: 2.1835 - acc: 0.1666 - val_loss: 2.0374 - val_acc: 0.2428\n",
      "Epoch 2/100\n",
      " - 23s - loss: 1.9444 - acc: 0.2735 - val_loss: 1.7717 - val_acc: 0.3434\n",
      "Epoch 3/100\n",
      " - 23s - loss: 1.7455 - acc: 0.3457 - val_loss: 1.6202 - val_acc: 0.4024\n",
      "Epoch 4/100\n",
      " - 23s - loss: 1.6031 - acc: 0.4088 - val_loss: 1.4825 - val_acc: 0.4568\n",
      "Epoch 5/100\n",
      " - 23s - loss: 1.4874 - acc: 0.4557 - val_loss: 1.4511 - val_acc: 0.4854\n",
      "Epoch 6/100\n",
      " - 23s - loss: 1.4001 - acc: 0.4885 - val_loss: 1.2655 - val_acc: 0.5518\n",
      "Epoch 7/100\n",
      " - 23s - loss: 1.3258 - acc: 0.5200 - val_loss: 1.2357 - val_acc: 0.5632\n",
      "Epoch 8/100\n",
      " - 23s - loss: 1.2622 - acc: 0.5439 - val_loss: 1.1221 - val_acc: 0.6056\n",
      "Epoch 9/100\n",
      " - 23s - loss: 1.2005 - acc: 0.5700 - val_loss: 1.0535 - val_acc: 0.6240\n",
      "Epoch 10/100\n",
      " - 23s - loss: 1.1528 - acc: 0.5864 - val_loss: 1.0039 - val_acc: 0.6434\n",
      "Epoch 11/100\n",
      " - 23s - loss: 1.1084 - acc: 0.6054 - val_loss: 0.9816 - val_acc: 0.6580\n",
      "Epoch 12/100\n",
      " - 23s - loss: 1.0688 - acc: 0.6190 - val_loss: 0.9417 - val_acc: 0.6662\n",
      "Epoch 13/100\n",
      " - 23s - loss: 1.0308 - acc: 0.6318 - val_loss: 0.9313 - val_acc: 0.6648\n",
      "Epoch 14/100\n",
      " - 23s - loss: 0.9897 - acc: 0.6480 - val_loss: 0.9156 - val_acc: 0.6772\n",
      "Epoch 15/100\n",
      " - 23s - loss: 0.9633 - acc: 0.6585 - val_loss: 0.8315 - val_acc: 0.7056\n",
      "Epoch 16/100\n",
      " - 23s - loss: 0.9276 - acc: 0.6732 - val_loss: 0.7856 - val_acc: 0.7278\n",
      "Epoch 17/100\n",
      " - 23s - loss: 0.8974 - acc: 0.6848 - val_loss: 0.8149 - val_acc: 0.7140\n",
      "Epoch 18/100\n",
      " - 23s - loss: 0.8661 - acc: 0.6918 - val_loss: 0.7375 - val_acc: 0.7436\n",
      "Epoch 19/100\n",
      " - 23s - loss: 0.8325 - acc: 0.7052 - val_loss: 0.7531 - val_acc: 0.7384\n",
      "Epoch 20/100\n",
      " - 23s - loss: 0.8034 - acc: 0.7188 - val_loss: 0.7189 - val_acc: 0.7454\n",
      "Epoch 21/100\n",
      " - 23s - loss: 0.7791 - acc: 0.7264 - val_loss: 0.6680 - val_acc: 0.7642\n",
      "Epoch 22/100\n",
      " - 23s - loss: 0.7640 - acc: 0.7318 - val_loss: 0.6685 - val_acc: 0.7672\n",
      "Epoch 23/100\n",
      " - 23s - loss: 0.7376 - acc: 0.7438 - val_loss: 0.6863 - val_acc: 0.7510\n",
      "Epoch 24/100\n",
      " - 23s - loss: 0.7155 - acc: 0.7528 - val_loss: 0.6405 - val_acc: 0.7754\n",
      "Epoch 25/100\n",
      " - 23s - loss: 0.7003 - acc: 0.7555 - val_loss: 0.6207 - val_acc: 0.7820\n",
      "Epoch 26/100\n",
      " - 23s - loss: 0.6782 - acc: 0.7626 - val_loss: 0.6379 - val_acc: 0.7782\n",
      "Epoch 27/100\n",
      " - 23s - loss: 0.6638 - acc: 0.7689 - val_loss: 0.6097 - val_acc: 0.7874\n",
      "Epoch 28/100\n",
      " - 23s - loss: 0.6494 - acc: 0.7721 - val_loss: 0.5836 - val_acc: 0.7944\n",
      "Epoch 29/100\n",
      " - 23s - loss: 0.6368 - acc: 0.7760 - val_loss: 0.5952 - val_acc: 0.7956\n",
      "Epoch 30/100\n",
      " - 23s - loss: 0.6191 - acc: 0.7829 - val_loss: 0.5851 - val_acc: 0.7944\n",
      "Epoch 31/100\n",
      " - 23s - loss: 0.6054 - acc: 0.7877 - val_loss: 0.6081 - val_acc: 0.7916\n",
      "Epoch 32/100\n",
      " - 23s - loss: 0.5918 - acc: 0.7970 - val_loss: 0.5654 - val_acc: 0.8042\n",
      "Epoch 33/100\n",
      " - 23s - loss: 0.5820 - acc: 0.7968 - val_loss: 0.5498 - val_acc: 0.8118\n",
      "Epoch 34/100\n",
      " - 23s - loss: 0.5709 - acc: 0.8018 - val_loss: 0.5573 - val_acc: 0.8064\n",
      "Epoch 35/100\n",
      " - 23s - loss: 0.5560 - acc: 0.8058 - val_loss: 0.5651 - val_acc: 0.8042\n",
      "Epoch 36/100\n",
      " - 23s - loss: 0.5526 - acc: 0.8077 - val_loss: 0.5428 - val_acc: 0.8098\n",
      "Epoch 37/100\n",
      " - 23s - loss: 0.5381 - acc: 0.8109 - val_loss: 0.5223 - val_acc: 0.8122\n",
      "Epoch 38/100\n",
      " - 23s - loss: 0.5276 - acc: 0.8147 - val_loss: 0.5271 - val_acc: 0.8176\n",
      "Epoch 39/100\n",
      " - 23s - loss: 0.5198 - acc: 0.8190 - val_loss: 0.5359 - val_acc: 0.8154\n",
      "Epoch 40/100\n",
      " - 23s - loss: 0.5047 - acc: 0.8237 - val_loss: 0.5202 - val_acc: 0.8244\n",
      "Epoch 41/100\n",
      " - 23s - loss: 0.5038 - acc: 0.8239 - val_loss: 0.5187 - val_acc: 0.8220\n",
      "Epoch 42/100\n",
      " - 23s - loss: 0.4916 - acc: 0.8279 - val_loss: 0.5184 - val_acc: 0.8220\n",
      "Epoch 43/100\n",
      " - 23s - loss: 0.4824 - acc: 0.8305 - val_loss: 0.5172 - val_acc: 0.8218\n",
      "Epoch 44/100\n",
      " - 23s - loss: 0.4757 - acc: 0.8319 - val_loss: 0.5177 - val_acc: 0.8202\n",
      "Epoch 45/100\n",
      " - 23s - loss: 0.4634 - acc: 0.8377 - val_loss: 0.5131 - val_acc: 0.8240\n",
      "Epoch 46/100\n",
      " - 23s - loss: 0.4582 - acc: 0.8398 - val_loss: 0.5143 - val_acc: 0.8290\n",
      "Epoch 47/100\n",
      " - 23s - loss: 0.4512 - acc: 0.8411 - val_loss: 0.5166 - val_acc: 0.8284\n",
      "Epoch 48/100\n",
      " - 23s - loss: 0.4459 - acc: 0.8438 - val_loss: 0.5062 - val_acc: 0.8268\n",
      "Epoch 49/100\n",
      " - 23s - loss: 0.4374 - acc: 0.8460 - val_loss: 0.5135 - val_acc: 0.8274\n",
      "Epoch 50/100\n",
      " - 23s - loss: 0.4310 - acc: 0.8492 - val_loss: 0.4984 - val_acc: 0.8370\n",
      "Epoch 51/100\n",
      " - 23s - loss: 0.4213 - acc: 0.8522 - val_loss: 0.5117 - val_acc: 0.8328\n",
      "Epoch 52/100\n",
      " - 23s - loss: 0.4171 - acc: 0.8527 - val_loss: 0.4995 - val_acc: 0.8338\n",
      "Epoch 53/100\n",
      " - 23s - loss: 0.4089 - acc: 0.8567 - val_loss: 0.4806 - val_acc: 0.8384\n",
      "Epoch 54/100\n",
      " - 23s - loss: 0.3992 - acc: 0.8612 - val_loss: 0.4928 - val_acc: 0.8376\n",
      "Epoch 55/100\n",
      " - 23s - loss: 0.4008 - acc: 0.8590 - val_loss: 0.5249 - val_acc: 0.8276\n",
      "Epoch 56/100\n",
      " - 23s - loss: 0.3885 - acc: 0.8604 - val_loss: 0.5011 - val_acc: 0.8336\n",
      "Epoch 57/100\n",
      " - 23s - loss: 0.3837 - acc: 0.8652 - val_loss: 0.4808 - val_acc: 0.8396\n",
      "Epoch 58/100\n",
      " - 23s - loss: 0.3797 - acc: 0.8671 - val_loss: 0.4978 - val_acc: 0.8410\n",
      "Epoch 59/100\n",
      " - 23s - loss: 0.3739 - acc: 0.8698 - val_loss: 0.4893 - val_acc: 0.8326\n",
      "Epoch 60/100\n",
      " - 23s - loss: 0.3680 - acc: 0.8690 - val_loss: 0.4889 - val_acc: 0.8390\n",
      "Epoch 61/100\n",
      " - 23s - loss: 0.3656 - acc: 0.8717 - val_loss: 0.4916 - val_acc: 0.8416\n",
      "Epoch 62/100\n",
      " - 23s - loss: 0.3547 - acc: 0.8759 - val_loss: 0.4992 - val_acc: 0.8388\n",
      "Epoch 63/100\n",
      " - 23s - loss: 0.3520 - acc: 0.8748 - val_loss: 0.5091 - val_acc: 0.8344\n",
      "Epoch 64/100\n",
      " - 23s - loss: 0.3437 - acc: 0.8785 - val_loss: 0.4957 - val_acc: 0.8374\n",
      "Epoch 65/100\n",
      " - 23s - loss: 0.3431 - acc: 0.8793 - val_loss: 0.4942 - val_acc: 0.8370\n",
      "Epoch 66/100\n",
      " - 23s - loss: 0.3339 - acc: 0.8814 - val_loss: 0.4985 - val_acc: 0.8406\n",
      "Epoch 67/100\n",
      " - 23s - loss: 0.3305 - acc: 0.8841 - val_loss: 0.4996 - val_acc: 0.8384\n",
      "Epoch 68/100\n",
      " - 23s - loss: 0.3294 - acc: 0.8849 - val_loss: 0.4980 - val_acc: 0.8356\n",
      "Epoch 69/100\n",
      " - 23s - loss: 0.3262 - acc: 0.8850 - val_loss: 0.4896 - val_acc: 0.8410\n",
      "Epoch 70/100\n",
      " - 23s - loss: 0.3210 - acc: 0.8867 - val_loss: 0.4808 - val_acc: 0.8466\n",
      "Epoch 71/100\n",
      " - 23s - loss: 0.3133 - acc: 0.8902 - val_loss: 0.4949 - val_acc: 0.8396\n",
      "Epoch 72/100\n",
      " - 23s - loss: 0.3098 - acc: 0.8912 - val_loss: 0.4995 - val_acc: 0.8420\n",
      "Epoch 73/100\n",
      " - 23s - loss: 0.3089 - acc: 0.8895 - val_loss: 0.4817 - val_acc: 0.8454\n",
      "Epoch 74/100\n",
      " - 23s - loss: 0.3040 - acc: 0.8927 - val_loss: 0.4908 - val_acc: 0.8440\n",
      "Epoch 75/100\n",
      " - 23s - loss: 0.2972 - acc: 0.8953 - val_loss: 0.4839 - val_acc: 0.8454\n",
      "Epoch 76/100\n",
      " - 23s - loss: 0.2923 - acc: 0.8948 - val_loss: 0.5023 - val_acc: 0.8422\n",
      "Epoch 77/100\n",
      " - 23s - loss: 0.2938 - acc: 0.8949 - val_loss: 0.4805 - val_acc: 0.8444\n",
      "Epoch 78/100\n",
      " - 23s - loss: 0.2891 - acc: 0.8980 - val_loss: 0.4958 - val_acc: 0.8468\n",
      "Epoch 79/100\n",
      " - 23s - loss: 0.2861 - acc: 0.8980 - val_loss: 0.5026 - val_acc: 0.8404\n",
      "Epoch 80/100\n",
      " - 23s - loss: 0.2814 - acc: 0.9011 - val_loss: 0.4956 - val_acc: 0.8420\n",
      "Epoch 81/100\n",
      " - 23s - loss: 0.2735 - acc: 0.9018 - val_loss: 0.4990 - val_acc: 0.8408\n",
      "Epoch 82/100\n",
      " - 23s - loss: 0.2727 - acc: 0.9026 - val_loss: 0.5129 - val_acc: 0.8386\n",
      "Epoch 83/100\n",
      " - 23s - loss: 0.2719 - acc: 0.9029 - val_loss: 0.5168 - val_acc: 0.8430\n",
      "Epoch 84/100\n",
      " - 23s - loss: 0.2665 - acc: 0.9044 - val_loss: 0.5143 - val_acc: 0.8460\n",
      "Epoch 85/100\n",
      " - 23s - loss: 0.2669 - acc: 0.9051 - val_loss: 0.5200 - val_acc: 0.8448\n",
      "Epoch 86/100\n",
      " - 23s - loss: 0.2637 - acc: 0.9056 - val_loss: 0.4873 - val_acc: 0.8482\n",
      "Epoch 87/100\n",
      " - 23s - loss: 0.2638 - acc: 0.9052 - val_loss: 0.5093 - val_acc: 0.8486\n",
      "Epoch 88/100\n",
      " - 23s - loss: 0.2559 - acc: 0.9086 - val_loss: 0.5021 - val_acc: 0.8410\n",
      "Epoch 89/100\n",
      " - 23s - loss: 0.2483 - acc: 0.9106 - val_loss: 0.5152 - val_acc: 0.8460\n",
      "Epoch 90/100\n",
      " - 23s - loss: 0.2461 - acc: 0.9117 - val_loss: 0.5346 - val_acc: 0.8448\n",
      "Epoch 91/100\n",
      " - 23s - loss: 0.2473 - acc: 0.9114 - val_loss: 0.4876 - val_acc: 0.8524\n",
      "Epoch 92/100\n",
      " - 23s - loss: 0.2479 - acc: 0.9124 - val_loss: 0.4978 - val_acc: 0.8482\n",
      "Epoch 93/100\n",
      " - 23s - loss: 0.2439 - acc: 0.9130 - val_loss: 0.5222 - val_acc: 0.8428\n",
      "Epoch 94/100\n",
      " - 23s - loss: 0.2359 - acc: 0.9150 - val_loss: 0.5108 - val_acc: 0.8472\n",
      "Epoch 95/100\n",
      " - 23s - loss: 0.2386 - acc: 0.9152 - val_loss: 0.5213 - val_acc: 0.8448\n"
     ]
    },
    {
     "name": "stdout",
     "output_type": "stream",
     "text": [
      "Epoch 96/100\n",
      " - 23s - loss: 0.2335 - acc: 0.9174 - val_loss: 0.5533 - val_acc: 0.8448\n",
      "Epoch 97/100\n",
      " - 23s - loss: 0.2338 - acc: 0.9165 - val_loss: 0.5251 - val_acc: 0.8488\n",
      "Epoch 98/100\n",
      " - 23s - loss: 0.2315 - acc: 0.9166 - val_loss: 0.5036 - val_acc: 0.8550\n",
      "Epoch 99/100\n",
      " - 23s - loss: 0.2276 - acc: 0.9192 - val_loss: 0.5159 - val_acc: 0.8466\n",
      "Epoch 100/100\n",
      " - 23s - loss: 0.2213 - acc: 0.9210 - val_loss: 0.5306 - val_acc: 0.8470\n",
      "CPU times: user 39min 2s, sys: 3min 30s, total: 42min 32s\n",
      "Wall time: 38min 7s\n"
     ]
    }
   ],
   "source": [
    "%%time\n",
    "history = model.fit(X_train, y_train,\n",
    "          batch_size=batch_size,\n",
    "          epochs=num_epochs,\n",
    "          validation_split=0.1,\n",
    "          shuffle=True,\n",
    "          verbose=2)"
   ]
  },
  {
   "cell_type": "code",
   "execution_count": 45,
   "metadata": {},
   "outputs": [],
   "source": [
    "model_json = model.to_json()\n",
    "open('cifar10_architecture_sgd100_6L.json', 'w').write(model_json)\n",
    "\n",
    "# Save the weights learned by the deep neural network on the training data\n",
    "model.save_weights('cifar10_weights_sgd100_6L.h5')"
   ]
  },
  {
   "cell_type": "code",
   "execution_count": 46,
   "metadata": {},
   "outputs": [
    {
     "name": "stdout",
     "output_type": "stream",
     "text": [
      "The accuracy of test data: 83.93%\n",
      "CPU times: user 1.18 s, sys: 64 ms, total: 1.24 s\n",
      "Wall time: 1.53 s\n"
     ]
    }
   ],
   "source": [
    "%%time\n",
    "scores = model.evaluate(X_test, y_test, verbose=2)\n",
    "print(\"The accuracy of test data: %.2f%%\" % (scores[1]*100))"
   ]
  },
  {
   "cell_type": "code",
   "execution_count": 47,
   "metadata": {},
   "outputs": [
    {
     "name": "stdout",
     "output_type": "stream",
     "text": [
      "_________________________________________________________________\n",
      "Layer (type)                 Output Shape              Param #   \n",
      "=================================================================\n",
      "conv2d_7 (Conv2D)            (None, 32, 32, 32)        896       \n",
      "_________________________________________________________________\n",
      "conv2d_8 (Conv2D)            (None, 32, 32, 32)        9248      \n",
      "_________________________________________________________________\n",
      "max_pooling2d_4 (MaxPooling2 (None, 16, 16, 32)        0         \n",
      "_________________________________________________________________\n",
      "dropout_5 (Dropout)          (None, 16, 16, 32)        0         \n",
      "_________________________________________________________________\n",
      "conv2d_9 (Conv2D)            (None, 16, 16, 64)        18496     \n",
      "_________________________________________________________________\n",
      "conv2d_10 (Conv2D)           (None, 14, 14, 64)        36928     \n",
      "_________________________________________________________________\n",
      "max_pooling2d_5 (MaxPooling2 (None, 7, 7, 64)          0         \n",
      "_________________________________________________________________\n",
      "dropout_6 (Dropout)          (None, 7, 7, 64)          0         \n",
      "_________________________________________________________________\n",
      "conv2d_11 (Conv2D)           (None, 7, 7, 128)         73856     \n",
      "_________________________________________________________________\n",
      "conv2d_12 (Conv2D)           (None, 5, 5, 128)         147584    \n",
      "_________________________________________________________________\n",
      "max_pooling2d_6 (MaxPooling2 (None, 2, 2, 128)         0         \n",
      "_________________________________________________________________\n",
      "dropout_7 (Dropout)          (None, 2, 2, 128)         0         \n",
      "_________________________________________________________________\n",
      "flatten_2 (Flatten)          (None, 512)               0         \n",
      "_________________________________________________________________\n",
      "dense_3 (Dense)              (None, 512)               262656    \n",
      "_________________________________________________________________\n",
      "dropout_8 (Dropout)          (None, 512)               0         \n",
      "_________________________________________________________________\n",
      "dense_4 (Dense)              (None, 10)                5130      \n",
      "=================================================================\n",
      "Total params: 554,794\n",
      "Trainable params: 554,794\n",
      "Non-trainable params: 0\n",
      "_________________________________________________________________\n"
     ]
    }
   ],
   "source": [
    "model.summary()"
   ]
  },
  {
   "cell_type": "code",
   "execution_count": 48,
   "metadata": {},
   "outputs": [
    {
     "name": "stdout",
     "output_type": "stream",
     "text": [
      "dict_keys(['val_loss', 'val_acc', 'loss', 'acc'])\n"
     ]
    },
    {
     "data": {
      "image/png": "[encoded data removed]",
      "text/plain": [
       "<matplotlib.figure.Figure at 0x7f89748569e8>"
      ]
     },
     "metadata": {},
     "output_type": "display_data"
    },
    {
     "data": {
      "image/png": "[encoded data removed]",
      "text/plain": [
       "<matplotlib.figure.Figure at 0x7f892625f668>"
      ]
     },
     "metadata": {},
     "output_type": "display_data"
    }
   ],
   "source": [
    "%matplotlib notebook\n",
    "%matplotlib notebook\n",
    "\n",
    "# list all data in history\n",
    "print(history.history.keys())\n",
    "# summarize history for accuracy\n",
    "plt.plot(history.history['acc'])\n",
    "plt.plot(history.history['val_acc'])\n",
    "plt.title('model accuracy')\n",
    "plt.ylabel('accuracy')\n",
    "plt.xlabel('epoch')\n",
    "plt.legend(['train', 'test'], loc='upper left')\n",
    "plt.show()"
   ]
  },
  {
   "cell_type": "code",
   "execution_count": null,
   "metadata": {},
   "outputs": [],
   "source": [
    "%matplotlib notebook\n",
    "%matplotlib notebook\n",
    "\n",
    "# summarize history for loss\n",
    "plt.plot(history.history['loss'])\n",
    "plt.plot(history.history['val_loss'])\n",
    "plt.title('model loss')\n",
    "plt.ylabel('loss')\n",
    "plt.xlabel('epoch')\n",
    "plt.legend(['train', 'test'], loc='upper left')\n",
    "plt.show()"
   ]
  },
  {
   "cell_type": "code",
   "execution_count": null,
   "metadata": {},
   "outputs": [],
   "source": [
    "from sklearn.metrics import classification_report, confusion_matrix\n",
    "\n",
    "Y_pred = model.predict(X_test, verbose=2)\n",
    "y_pred = np.argmax(Y_pred, axis=1)\n",
    " \n",
    "conf_mx = confusion_matrix(np.argmax(y_test, axis=1), y_pred)\n",
    "conf_mx"
   ]
  },
  {
   "cell_type": "code",
   "execution_count": 1,
   "metadata": {},
   "outputs": [
    {
     "name": "stderr",
     "output_type": "stream",
     "text": [
      "Using TensorFlow backend.\n",
      "/home/ec2-user/anaconda3/envs/tensorflow_p36/lib/python3.6/importlib/_bootstrap.py:219: RuntimeWarning: compiletime version 3.5 of module 'tensorflow.python.framework.fast_tensor_util' does not match runtime version 3.6\n",
      "  return f(*args, **kwds)\n"
     ]
    }
   ],
   "source": [
    "import numpy as np\n",
    "import scipy\n",
    "import matplotlib.pyplot as plt\n",
    "\n",
    "from keras.preprocessing.image import load_img, img_to_array\n",
    "from keras.models import model_from_json\n",
    "\n",
    "%matplotlib inline\n",
    "\n",
    "# Scratch Model\n",
    "weights_path = 'cifar10_weights_sgd100_6L.h5'\n",
    "model_path = 'cifar10_architecture_sgd100_6L.json'\n",
    "\n",
    "label_names = ['airplane', 'automobile', 'bird', 'cat', 'deer', 'dog', 'frog', 'horse', 'ship', 'truck']"
   ]
  },
  {
   "cell_type": "code",
   "execution_count": 2,
   "metadata": {},
   "outputs": [],
   "source": [
    "import scipy\n",
    "\n",
    "def preprocess_image(image_path, preprocess_input, resize_shape):\n",
    "    img = load_img(image_path)\n",
    "    img = img_to_array(img)\n",
    "    img = scipy.misc.imresize(img, size=resize_shape)\n",
    "    img = preprocess_input(img)\n",
    "    return img"
   ]
  },
  {
   "cell_type": "code",
   "execution_count": 3,
   "metadata": {},
   "outputs": [
    {
     "name": "stdout",
     "output_type": "stream",
     "text": [
      "Scratch Model Loaded\n"
     ]
    }
   ],
   "source": [
    "with open(model_path, 'r') as model_json:\n",
    "    loaded_model = model_from_json(model_json.read())\n",
    "\n",
    "loaded_model.load_weights(weights_path)\n",
    "print(\"Scratch Model Loaded\")"
   ]
  },
  {
   "cell_type": "code",
   "execution_count": 4,
   "metadata": {},
   "outputs": [
    {
     "name": "stderr",
     "output_type": "stream",
     "text": [
      "/home/ec2-user/anaconda3/envs/tensorflow_p36/lib/python3.6/site-packages/ipykernel/__main__.py:6: DeprecationWarning: `imresize` is deprecated!\n",
      "`imresize` is deprecated in SciPy 1.0.0, and will be removed in 1.2.0.\n",
      "Use ``skimage.transform.resize`` instead.\n"
     ]
    },
    {
     "data": {
      "text/plain": [
       "Text(0.5,1,'cat')"
      ]
     },
     "execution_count": 4,
     "metadata": {},
     "output_type": "execute_result"
    },
    {
     "data": {
      "image/png": "[encoded data removed]",
      "text/plain": [
       "<matplotlib.figure.Figure at 0x7f5cf06d8dd8>"
      ]
     },
     "metadata": {},
     "output_type": "display_data"
    }
   ],
   "source": [
    "img = preprocess_image('images/deer.jpg', lambda x: x/255, (32, 32, 3))\n",
    "pred = label_names[np.argmax(loaded_model.predict(np.expand_dims(img, axis=0)))]\n",
    "\n",
    "plt.axis('off')\n",
    "plt.imshow(img)\n",
    "plt.title(pred)"
   ]
  },
  {
   "cell_type": "code",
   "execution_count": 5,
   "metadata": {},
   "outputs": [
    {
     "name": "stderr",
     "output_type": "stream",
     "text": [
      "/home/ec2-user/anaconda3/envs/tensorflow_p36/lib/python3.6/site-packages/ipykernel/__main__.py:6: DeprecationWarning: `imresize` is deprecated!\n",
      "`imresize` is deprecated in SciPy 1.0.0, and will be removed in 1.2.0.\n",
      "Use ``skimage.transform.resize`` instead.\n"
     ]
    },
    {
     "data": {
      "text/plain": [
       "Text(0.5,1,'horse')"
      ]
     },
     "execution_count": 5,
     "metadata": {},
     "output_type": "execute_result"
    },
    {
     "data": {
      "image/png": "[encoded data removed]",
      "text/plain": [
       "<matplotlib.figure.Figure at 0x7f5cf0746438>"
      ]
     },
     "metadata": {},
     "output_type": "display_data"
    }
   ],
   "source": [
    "img = preprocess_image('images/horse.jpg', lambda x: x/255, (32, 32, 3))\n",
    "pred = label_names[np.argmax(loaded_model.predict(np.expand_dims(img, axis=0)))]\n",
    "\n",
    "plt.axis('off')\n",
    "plt.imshow(img)\n",
    "plt.title(pred)"
   ]
  },
  {
   "cell_type": "code",
   "execution_count": 6,
   "metadata": {},
   "outputs": [
    {
     "name": "stderr",
     "output_type": "stream",
     "text": [
      "/home/ec2-user/anaconda3/envs/tensorflow_p36/lib/python3.6/site-packages/ipykernel/__main__.py:6: DeprecationWarning: `imresize` is deprecated!\n",
      "`imresize` is deprecated in SciPy 1.0.0, and will be removed in 1.2.0.\n",
      "Use ``skimage.transform.resize`` instead.\n"
     ]
    },
    {
     "data": {
      "text/plain": [
       "Text(0.5,1,'dog')"
      ]
     },
     "execution_count": 6,
     "metadata": {},
     "output_type": "execute_result"
    },
    {
     "data": {
      "image/png": "[encoded data removed]",
      "text/plain": [
       "<matplotlib.figure.Figure at 0x7f5cf06e2c18>"
      ]
     },
     "metadata": {},
     "output_type": "display_data"
    }
   ],
   "source": [
    "img = preprocess_image('images/dog.jpg', lambda x: x/255, (32, 32, 3))\n",
    "pred = label_names[np.argmax(loaded_model.predict(np.expand_dims(img, axis=0)))]\n",
    "\n",
    "plt.axis('off')\n",
    "plt.imshow(img)\n",
    "plt.title(pred)"
   ]
  },
  {
   "cell_type": "code",
   "execution_count": 9,
   "metadata": {},
   "outputs": [
    {
     "name": "stderr",
     "output_type": "stream",
     "text": [
      "/home/ec2-user/anaconda3/envs/tensorflow_p36/lib/python3.6/site-packages/ipykernel/__main__.py:6: DeprecationWarning: `imresize` is deprecated!\n",
      "`imresize` is deprecated in SciPy 1.0.0, and will be removed in 1.2.0.\n",
      "Use ``skimage.transform.resize`` instead.\n"
     ]
    },
    {
     "data": {
      "text/plain": [
       "Text(0.5,1,'bird')"
      ]
     },
     "execution_count": 9,
     "metadata": {},
     "output_type": "execute_result"
    },
    {
     "data": {
      "image/png": "[encoded data removed]",
      "text/plain": [
       "<matplotlib.figure.Figure at 0x7f5cf01397b8>"
      ]
     },
     "metadata": {},
     "output_type": "display_data"
    }
   ],
   "source": [
    "img = preprocess_image('images/dinesh.jpg', lambda x: x/255, (32, 32, 3))\n",
    "pred = label_names[np.argmax(loaded_model.predict(np.expand_dims(img, axis=0)))]\n",
    "\n",
    "plt.axis('off')\n",
    "plt.imshow(img)\n",
    "plt.title(pred)"
   ]
  },
  {
   "cell_type": "markdown",
   "metadata": {},
   "source": [
    "## References\n",
    "https://github.com/JacobPolloreno/cifar10_keras<br>\n",
    "Deep Learning with Keras by Antonio Gulli and Sujit Pal<br>\n",
    "http://www.samyzaf.com/ML/cifar10/cifar10.html<br>\n",
    "https://github.com/charlesgreen/keras_cifar10_cnn/blob/master/keras_cifar10_cnn/cifar10_cnn.py<br>\n",
    "https://machinelearningmastery.com/image-augmentation-deep-learning-keras/"
   ]
  },
  {
   "cell_type": "code",
   "execution_count": null,
   "metadata": {},
   "outputs": [],
   "source": []
  }
 ],
 "metadata": {
  "kernelspec": {
   "display_name": "Python [conda env:tensorflow_p36]",
   "language": "python",
   "name": "conda-env-tensorflow_p36-py"
  },
  "language_info": {
   "codemirror_mode": {
    "name": "ipython",
    "version": 3
   },
   "file_extension": ".py",
   "mimetype": "text/x-python",
   "name": "python",
   "nbconvert_exporter": "python",
   "pygments_lexer": "ipython3",
   "version": "3.6.3"
  }
 },
 "nbformat": 4,
 "nbformat_minor": 2
}
